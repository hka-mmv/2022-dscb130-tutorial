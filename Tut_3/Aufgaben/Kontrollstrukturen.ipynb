{
 "cells": [
  {
   "cell_type": "markdown",
   "id": "d06e81f3",
   "metadata": {},
   "source": [
    "# Kontrollstrukturen in Python"
   ]
  },
  {
   "cell_type": "markdown",
   "id": "711e4031",
   "metadata": {},
   "source": [
    "## if - else - elif"
   ]
  },
  {
   "cell_type": "markdown",
   "id": "50465954",
   "metadata": {},
   "source": [
    " <div class=\"alert alert-block alert-info\"> \n",
    "    <b>NOTE</b> \"Das if Statement wird verwendet wenn ein Teil des Codes nur unter einer bestimmten Bedingung ausgeführt werden soll. Python unterstützt hierzu die Vergleichsoperatoren der Mathematik\" </div>"
   ]
  },
  {
   "cell_type": "markdown",
   "id": "685c8a0e",
   "metadata": {},
   "source": [
    "+ Equals: <span style=\"color:red\">a == b</span>\n",
    "+ Not Equals: <span style=\"color:red\">a != b</span>\n",
    "+ Less than: <span style=\"color:red\">a < b</span>\n",
    "+ Less than or equal to: <span style=\"color:red\">a <= b</span>\n",
    "+ Greater than: <span style=\"color:red\">a > b</span>\n",
    "+ Greater than or equal to:  <span style=\"color:red\">a >= b</span>\n",
    "\n"
   ]
  },
  {
   "cell_type": "code",
   "execution_count": 4,
   "id": "ca56ecbd",
   "metadata": {},
   "outputs": [],
   "source": [
    "# Beispiel - Prüfen der Gleichheit zweier Variablen\n",
    "\n",
    "a = 33\n",
    "b = 24 \n",
    "\n",
    "if a == b:\n",
    "    print('a und b sind gleich')\n",
    "else: \n",
    "    print('a und b sind nicht gleich')\n"
   ]
  },
  {
   "cell_type": "markdown",
   "id": "6e60bdb9",
   "metadata": {},
   "source": [
    "### Aufgabe_1: Einstieg"
   ]
  },
  {
   "cell_type": "markdown",
   "id": "16796bdc",
   "metadata": {},
   "source": [
    "Definiere ein paar Variablen und wende die oben aufgeführten Vergleichsoperatoren auf diese an."
   ]
  },
  {
   "cell_type": "code",
   "execution_count": null,
   "id": "47d4b6d1",
   "metadata": {},
   "outputs": [],
   "source": [
    "#Hier programmieren "
   ]
  },
  {
   "cell_type": "markdown",
   "id": "5cc8f7bf",
   "metadata": {},
   "source": [
    "### Aufgabe_2: if vs. elif"
   ]
  },
  {
   "cell_type": "markdown",
   "id": "7c16cce6",
   "metadata": {},
   "source": [
    "<div class=\"alert alert-block alert-info\"> \n",
    "    <b>NOTE</b> \"elif sagt in Python in etwa \"wenn die vorausgegangene Condition not true war dann prüfe diese Condition (inf anderen Programmiersprachen häufig \"else if\"). \" </div>"
   ]
  },
  {
   "cell_type": "markdown",
   "id": "5967720e",
   "metadata": {},
   "source": [
    "Zeige an einem selbstgewählten Beispiel den Unterschied zwischen mehreren aufeinanderfolgenden `if-Statements` und der Verwendung von einem if Statement gefolgt von `elif-Statements`. "
   ]
  },
  {
   "cell_type": "code",
   "execution_count": null,
   "id": "c19b60cc",
   "metadata": {
    "scrolled": true
   },
   "outputs": [],
   "source": [
    "#Hier programmieren "
   ]
  },
  {
   "cell_type": "markdown",
   "id": "218274b0",
   "metadata": {},
   "source": [
    "### Aufgabe_3: Umwandlung von Zeichenketten"
   ]
  },
  {
   "cell_type": "markdown",
   "id": "3be0fef9",
   "metadata": {},
   "source": [
    "Schreiben Sie ein Python Programm, welches beliebige Eingabewerte(input) in Integer- und Float-Typen umwandelt. Schaue dir hierzu auch die `isnumeric()` methode an. "
   ]
  },
  {
   "cell_type": "code",
   "execution_count": null,
   "id": "0d3b2155",
   "metadata": {},
   "outputs": [],
   "source": [
    "#Hier programmieren "
   ]
  },
  {
   "cell_type": "markdown",
   "id": "1bdfb707",
   "metadata": {},
   "source": [
    "### Aufgabe_4 Umrechnung"
   ]
  },
  {
   "cell_type": "markdown",
   "id": "db47cdc5",
   "metadata": {},
   "source": [
    "Schreibe ein Programm, das Temperaturen in verschiedene Skalensystemen ineinander umwandelt. Das Programm soll zu Beginn eine Auswahl mit den verschiedenen Möglichkeiten anbieten nutze hierzu die `if`-`elif`-`else` Verzweigung"
   ]
  },
  {
   "cell_type": "markdown",
   "id": "5c54d6b0",
   "metadata": {},
   "source": [
    "<div class=\"alert alert-block alert-info\"> \n",
    "    <b>NOTE</b> \"Celsius = 5/9 * (Fahrenheit - 32)\" </div>"
   ]
  },
  {
   "cell_type": "code",
   "execution_count": 51,
   "id": "fec83f69",
   "metadata": {
    "scrolled": true
   },
   "outputs": [],
   "source": [
    "print(\"(1) Umrechnung von Celsius nach Fahrenheit\")\n",
    "print(\"(2) Umrechnung von Fahrenheit nach Celsius\")\n",
    "\n",
    "wahl = input(\"Bitte wählen: \")\n",
    "\n",
    "#Hier weiterprogrammieren "
   ]
  },
  {
   "cell_type": "markdown",
   "id": "d892a5a3",
   "metadata": {},
   "source": [
    "## NOT - OR - AND - IN"
   ]
  },
  {
   "cell_type": "markdown",
   "id": "34264951",
   "metadata": {},
   "source": [
    "<div class=\"alert alert-block alert-info\"> \n",
    "    <b>NOTE</b> \"Logische Operatoren werden genutzt um Conditional Statements zu kombinieren\" </div>"
   ]
  },
  {
   "cell_type": "markdown",
   "id": "eab52ad3",
   "metadata": {},
   "source": [
    "| Operator     | Description                                | Example               | \n",
    "|:--------------|:--------------------------------------------|-----------------------:|\n",
    "|and           |`True` wenn beide Statements true           |x < 5 `and` x < 10     |\n",
    "|or            |`True` wenn eines der beiden Statements true|x < 5 `or` x < 4       |\n",
    "|not           |`False` wenn beide Statements true          |not(x < 5 `and` x < 10)|\n",
    "|in            |`True` wenn ein definierter Wert in geprüfter Sequenz liegt         |x `in` y|\n",
    "|not in        |`True` wenn ein definierter Wert nicht in geprüfter Sequenz liegt   |x `in` y|"
   ]
  },
  {
   "cell_type": "markdown",
   "id": "5a6ec1e9",
   "metadata": {},
   "source": [
    "<table>\n",
    "<tr><th> AND </th><th> OR </th><th> NOT </th></tr>\n",
    "<tr><td>\n",
    "\n",
    "|A|B|A and B|\n",
    "|--|--|:--:|\n",
    "|T|T|T|\n",
    "|T|F|F|\n",
    "|F|T|F|\n",
    "|F|F|F|\n",
    "\n",
    "</td><td>\n",
    "\n",
    "|A|B|A or B|\n",
    "|--|--|:--:|\n",
    "|T|T|T|\n",
    "|T|F|T|\n",
    "|F|T|T|\n",
    "|F|F|F|\n",
    "    \n",
    "</td><td>\n",
    "\n",
    "|A|A'|\n",
    "|-|-|\n",
    "|T|F|\n",
    "|F|T|\n",
    "\n",
    "</td></tr> </table>\n"
   ]
  },
  {
   "cell_type": "markdown",
   "id": "ee16918c",
   "metadata": {},
   "source": [
    "### Aufgabe_5: Wetterempfehlung"
   ]
  },
  {
   "cell_type": "markdown",
   "id": "908aa3c1",
   "metadata": {},
   "source": [
    "Schreibe ein Programm welches nach der aktuellen Temperatur fragt und abhängig davon ausgibt ob das Wetter gut oder schlecht ist. \n",
    "Wenn die eingegebene Temperatur nicht niedriger als 10 Grad und nicht höher als 30 Grad ist, dann ist das Wetter gut. Wenn die Temperatur aber außerhalb des Intervalls liegt, ist das Wetter schlecht. "
   ]
  },
  {
   "cell_type": "code",
   "execution_count": 52,
   "id": "86a9c6ad",
   "metadata": {},
   "outputs": [],
   "source": [
    "#Hier programmieren "
   ]
  },
  {
   "cell_type": "markdown",
   "id": "41ae8057",
   "metadata": {},
   "source": [
    "## for - while - break - continue"
   ]
  },
  {
   "cell_type": "code",
   "execution_count": null,
   "id": "ecc9fcba",
   "metadata": {},
   "outputs": [],
   "source": []
  },
  {
   "cell_type": "code",
   "execution_count": null,
   "id": "4ba5dd94",
   "metadata": {},
   "outputs": [],
   "source": []
  }
 ],
 "metadata": {
  "kernelspec": {
   "display_name": "Python 3",
   "language": "python",
   "name": "python3"
  },
  "language_info": {
   "codemirror_mode": {
    "name": "ipython",
    "version": 3
   },
   "file_extension": ".py",
   "mimetype": "text/x-python",
   "name": "python",
   "nbconvert_exporter": "python",
   "pygments_lexer": "ipython3",
   "version": "3.8.8"
  }
 },
 "nbformat": 4,
 "nbformat_minor": 5
}
