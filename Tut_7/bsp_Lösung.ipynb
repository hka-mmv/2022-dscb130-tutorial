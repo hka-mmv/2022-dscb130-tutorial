{
 "cells": [
  {
   "cell_type": "code",
   "execution_count": null,
   "metadata": {},
   "outputs": [],
   "source": []
  },
  {
   "cell_type": "code",
   "execution_count": 4,
   "id": "ba035597",
   "metadata": {
    "scrolled": true
   },
   "outputs": [
    {
     "name": "stdout",
     "output_type": "stream",
     "text": [
      "URL_Get_Abfrage: https://www.iwi.h-ka.de/iwii/REST/canteen/v2/2/2022-11-29\n",
      "200 ok\n"
     ]
    }
   ],
   "source": [
    "import requests                  # Module for API\n",
    "from tkinter import *            # Module for GUI\n",
    "from datetime import date        # Module for date/time\n",
    "from tkhtmlview import HTMLLabel\n",
    "\n",
    "\n",
    "root = Tk()\n",
    "\n",
    "def f():\n",
    "    id = 2\n",
    "    datum = date.today()\n",
    "    URL = f\" https://www.iwi.h-ka.de/iwii/REST/canteen/v2/{id}/{datum}\"\n",
    "    print(f\"URL_Get_Abfrage:{URL}\")\n",
    "    resp = requests.get(URL)\n",
    "    print(resp.status_code, end=\" \")\n",
    "    if resp.status_code == 200:\n",
    "        data = resp.json()  \n",
    "        print(data[\"status\"])  \n",
    "    # data[\"date\"]\n",
    "\n",
    "\n",
    "    res = \"<h1><tt><strong>Mensa Api</strong></tt></h1>\"\n",
    "    for i in range(0,len(data[\"mealGroups\"])):\n",
    "        if data['mealGroups'][i]['title'] == \"Aktionstheke\":\n",
    "            data['mealGroups'][i]['title'] = \"Curry Queen\"\n",
    "        res +=f\"<h2><tt>{data['mealGroups'][i]['title']}:&nbsp;</tt></h2><ul>\"\n",
    "        for a in [f\"{x[1]:.2f} {x[0]}\" for x in [(a[\"name\"], float(a[\"priceStudent\"])) for a in data[\"mealGroups\"][i][\"meals\"]]]:\n",
    "            if a.lower().find(\"past\") != -1:\n",
    "                res += f'<li><span style=\"color:#ffffff\"><tt><span style=\"background-color:#e74c3c\">{a}</span></tt></span></li>'\n",
    "            else:\n",
    "                res += f\"<li><tt>{a}</tt></li>\"\n",
    "        res += \"</ul>\"\n",
    "            \n",
    "    return res \n",
    "\n",
    "html_label = HTMLLabel(root, html=f())#, justify=LEFT)\n",
    "html_label.pack(fill=\"both\", expand=True)\n",
    "html_label.fit_height()\n",
    "\n",
    "root.mainloop()"
   ]
  },
  {
   "cell_type": "code",
   "execution_count": null,
   "metadata": {},
   "outputs": [],
   "source": []
  }
 ],
 "metadata": {
  "kernelspec": {
   "display_name": "Python 3.8.10 ('env': venv)",
   "language": "python",
   "name": "python3"
  },
  "language_info": {
   "codemirror_mode": {
    "name": "ipython",
    "version": 3
   },
   "file_extension": ".py",
   "mimetype": "text/x-python",
   "name": "python",
   "nbconvert_exporter": "python",
   "pygments_lexer": "ipython3",
   "version": "3.8.10"
  },
  "orig_nbformat": 4,
  "vscode": {
   "interpreter": {
    "hash": "ca1e626bf3bfd315c171bb45ed5becb619f5578f070212cee53da9b8d560c5ac"
   }
  }
 },
 "nbformat": 4,
 "nbformat_minor": 2
}
