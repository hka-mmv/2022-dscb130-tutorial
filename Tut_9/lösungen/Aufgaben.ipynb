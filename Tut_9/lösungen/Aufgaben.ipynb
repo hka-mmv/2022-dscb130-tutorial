{
 "cells": [
  {
   "attachments": {},
   "cell_type": "markdown",
   "metadata": {},
   "source": [
    "# Kleine Programmieraufgaben Python"
   ]
  },
  {
   "attachments": {},
   "cell_type": "markdown",
   "metadata": {},
   "source": [
    "Für die Fehler such Aufgaben noch ein paar Besonderheiten der Sprache python "
   ]
  },
  {
   "attachments": {},
   "cell_type": "markdown",
   "metadata": {},
   "source": [
    "## Tupel Unpacking"
   ]
  },
  {
   "cell_type": "markdown",
   "metadata": {},
   "source": [
    "https://www.pythontutorial.net/python-basics/python-unpacking-tuple/"
   ]
  },
  {
   "attachments": {},
   "cell_type": "markdown",
   "metadata": {},
   "source": [
    "Aufgabe: Überfliege den Artkiel grob und löse Folgendes Problem.\n",
    "a) Gegeben sei Tupel `t` durch unpacking soll und er in das Erste-, Letzten-, Vorvorletzten- und in die Restleichenelementen(zwischen dem Ersten und dem Vorvorelternelement) zerlegt werden.\n",
    "b) Erstelle nun eine neuen Tupel der wie folgt aufgebaut ist: Letztes-, Erstes-, Vorvorletzten-, und dann die Restleichenelemente"
   ]
  },
  {
   "cell_type": "code",
   "execution_count": 1,
   "metadata": {},
   "outputs": [
    {
     "data": {
      "text/plain": [
       "(1, 2, 3, 4, 5, 6, 7, 8, 9)"
      ]
     },
     "execution_count": 1,
     "metadata": {},
     "output_type": "execute_result"
    }
   ],
   "source": [
    "t = tuple(i for i in range(1,10,1))\n",
    "t"
   ]
  },
  {
   "cell_type": "markdown",
   "metadata": {},
   "source": [
    "a)"
   ]
  },
  {
   "cell_type": "code",
   "execution_count": 2,
   "metadata": {},
   "outputs": [],
   "source": [
    "a,*b ,c,_,d= t"
   ]
  },
  {
   "attachments": {},
   "cell_type": "markdown",
   "metadata": {},
   "source": [
    "b)"
   ]
  },
  {
   "cell_type": "code",
   "execution_count": 3,
   "metadata": {},
   "outputs": [
    {
     "data": {
      "text/plain": [
       "(9, 1, 7, 2, 3, 4, 5, 6)"
      ]
     },
     "execution_count": 3,
     "metadata": {},
     "output_type": "execute_result"
    }
   ],
   "source": [
    "d,a,c,*b "
   ]
  },
  {
   "attachments": {},
   "cell_type": "markdown",
   "metadata": {},
   "source": [
    "# Fehlersuchen"
   ]
  },
  {
   "attachments": {},
   "cell_type": "markdown",
   "metadata": {},
   "source": [
    "```py\n",
    "a*,b =(2,5,87,6)\n",
    "\n",
    "_,d,c = (3,3)\n",
    "\n",
    "```"
   ]
  },
  {
   "attachments": {},
   "cell_type": "markdown",
   "metadata": {},
   "source": [
    "Finde die 7 Fehler des Password Generators"
   ]
  },
  {
   "attachments": {},
   "cell_type": "markdown",
   "metadata": {},
   "source": [
    "<img src=\"Screenshot from 2022-12-18 15-05-19.png\" >"
   ]
  },
  {
   "cell_type": "code",
   "execution_count": 13,
   "metadata": {},
   "outputs": [
    {
     "name": "stdout",
     "output_type": "stream",
     "text": [
      "447d68h967\n"
     ]
    }
   ],
   "source": [
    "import random\n",
    "\n",
    "length = 10                                       #1\n",
    "\n",
    "def shuffle(passwordList):                        #2\n",
    "  tempList = [str(i) for i in passwordList]\n",
    "\n",
    "  \n",
    "  random.shuffle(tempList)\n",
    "  return ''''''.join(tempList)                    #3\n",
    "\n",
    "chr = \"a\",\"b\",\"c\",\"d\",\"h\"\n",
    "num = range(9,0,-1)                               #4\n",
    "\n",
    "\n",
    "password = [random.choice([random.choice(chr),    #5\n",
    "                           random.choice(num)])\n",
    "            for _ in range(0,length)]\n",
    "\n",
    "password = shuffle(password)                      #6\n",
    "\n",
    "print(password)                                   #7"
   ]
  },
  {
   "cell_type": "code",
   "execution_count": null,
   "metadata": {},
   "outputs": [],
   "source": []
  }
 ],
 "metadata": {
  "kernelspec": {
   "display_name": "Python 3",
   "language": "python",
   "name": "python3"
  },
  "language_info": {
   "codemirror_mode": {
    "name": "ipython",
    "version": 3
   },
   "file_extension": ".py",
   "mimetype": "text/x-python",
   "name": "python",
   "nbconvert_exporter": "python",
   "pygments_lexer": "ipython3",
   "version": "3.10.6 (main, Nov 14 2022, 16:10:14) [GCC 11.3.0]"
  },
  "orig_nbformat": 4,
  "vscode": {
   "interpreter": {
    "hash": "916dbcbb3f70747c44a77c7bcd40155683ae19c65e1c03b4aa3499c5328201f1"
   }
  }
 },
 "nbformat": 4,
 "nbformat_minor": 2
}
