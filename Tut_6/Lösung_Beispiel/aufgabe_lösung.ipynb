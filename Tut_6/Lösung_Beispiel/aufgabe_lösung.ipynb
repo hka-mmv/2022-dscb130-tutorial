{
 "cells": [
  {
   "cell_type": "markdown",
   "metadata": {},
   "source": [
    "# Erkärkung api\n",
    "Eine API (Application Programming Interface) ist ein Satz von Befehlen, Funktionen, Protokollen und Objekten, die Programmierer verwenden können, um eine Software zu erstellen oder mit einem externen System zu interagieren.\n",
    "<a href=\"https://www.google.com/url?sa=t&rct=j&q=&esrc=s&source=web&cd=&cad=rja&uact=8&ved=2ahUKEwjHp-SXv737AhVQwAIHHcgmB0QQFnoECBcQAw&url=https%3A%2F%2Fwww.talend.com%2Fde%2Fresources%2Fwas-ist-eine-api%2F&usg=AOvVaw1IDkg107HfCgaPmUGGDCCZ\">Qulle</a>\n"
   ]
  },
  {
   "cell_type": "markdown",
   "metadata": {},
   "source": [
    "# request moule\n",
    "https://www.w3schools.com/python/module_requests.asp\n",
    "## Definition und Verwendung\n",
    "\n",
    "Mit dem Modul requests können Sie HTTP-Anfragen mit Python senden.\n",
    "\n",
    "Die HTTP-Anfrage gibt ein Response-Objekt mit allen Antwortdaten (Inhalt, Kodierung, Status usw.) zurück.\n",
    "## Hochschul Api Dokumention \n",
    "https://www.iwi.hs-karlsruhe.de/iwii/public/restdoc#/Mensa"
   ]
  },
  {
   "cell_type": "code",
   "execution_count": 1,
   "metadata": {},
   "outputs": [
    {
     "name": "stdout",
     "output_type": "stream",
     "text": [
      "URL_Get_Abfrage:https://www.iwi.h-ka.de/iwii/REST/canteen/v2/2/2022-11-21\n",
      "200 ok\n"
     ]
    },
    {
     "data": {
      "text/plain": [
       "'2022-11-21'"
      ]
     },
     "execution_count": 1,
     "metadata": {},
     "output_type": "execute_result"
    }
   ],
   "source": [
    "import requests                  # Module for API\n",
    "id = 2\n",
    "datum = \"2022-11-21\"\n",
    "URL = f\"https://www.iwi.h-ka.de/iwii/REST/canteen/v2/{id}/{datum}\"\n",
    "print(f\"URL_Get_Abfrage:{URL}\")\n",
    "resp = requests.get(URL)\n",
    "print(resp.status_code, end=\" \")\n",
    "if resp.status_code == 200:\n",
    "    data = resp.json()  \n",
    "    print(data[\"status\"])  \n",
    "data[\"date\"]"
   ]
  },
  {
   "cell_type": "markdown",
   "metadata": {},
   "source": [
    "## Aus dem Reponse Objekt kann du .json() ein Dictionary gemacht werden\n",
    "\n",
    "https://www.w3schools.com/python/python_dictionaries.asp\n"
   ]
  },
  {
   "cell_type": "markdown",
   "metadata": {},
   "source": [
    "#### Aufgabe 1: Kopiere die `URL_Get_Abfrage` der  Ausgabe in deinen Browser deiner Wahl und machen dich mit den Daten vertraut "
   ]
  },
  {
   "cell_type": "markdown",
   "metadata": {},
   "source": [
    "#### Aufgabe 2: Gebe aus, was es bei `Gut und Günstig` gibt "
   ]
  },
  {
   "cell_type": "code",
   "execution_count": 20,
   "metadata": {},
   "outputs": [
    {
     "data": {
      "text/plain": [
       "{'name': 'Mensa Moltkestraße',\n",
       " 'mealGroups': [{'title': 'Wahlessen 1',\n",
       "   'meals': [{'name': 'Schnitzel Bar Puten und Schweineschnitzel je 100 g in Selbstbedienung',\n",
       "     'identifier': 'SCHNITZEL:BAR:PUTEN:SCHWEINESCHNITZEL:SELBSTBEDIENUNG',\n",
       "     'foodAdditiveNumbers': ['95', 'Ge', 'We'],\n",
       "     'priceStudent': 1.05,\n",
       "     'priceGuest': 2.1,\n",
       "     'priceEmployee': 1.44,\n",
       "     'pricePupil': 1.22,\n",
       "     'priceAdditive': None},\n",
       "    {'name': 'Pommes',\n",
       "     'identifier': 'POMMES',\n",
       "     'foodAdditiveNumbers': ['97'],\n",
       "     'priceStudent': 1.05,\n",
       "     'priceGuest': 1.3,\n",
       "     'priceEmployee': 1.05,\n",
       "     'pricePupil': 1.05,\n",
       "     'priceAdditive': None},\n",
       "    {'name': 'Tagessuppe',\n",
       "     'identifier': 'TAGESSUPPE',\n",
       "     'foodAdditiveNumbers': ['1', '96', 'ML', 'Se', 'We'],\n",
       "     'priceStudent': 0.55,\n",
       "     'priceGuest': 0.75,\n",
       "     'priceEmployee': 0.55,\n",
       "     'pricePupil': 0.55,\n",
       "     'priceAdditive': None}],\n",
       "   'message': None},\n",
       "  {'title': 'Wahlessen 2',\n",
       "   'meals': [{'name': 'Mini Frühlingsrollen mit Sweet Chili Soße und Gemüse Mienudeln',\n",
       "     'identifier': 'MINI:FRUEHLINGSROLLEN:SWEET:CHILI:SOSSE:GEMUESE:MIENUDELN',\n",
       "     'foodAdditiveNumbers': ['97', 'Sa', 'So', 'We'],\n",
       "     'priceStudent': 3.2,\n",
       "     'priceGuest': 7.05,\n",
       "     'priceEmployee': 4.7,\n",
       "     'pricePupil': 3.7,\n",
       "     'priceAdditive': None},\n",
       "    {'name': 'Gemüse',\n",
       "     'identifier': 'GEMUESE',\n",
       "     'foodAdditiveNumbers': [],\n",
       "     'priceStudent': 0.9,\n",
       "     'priceGuest': 1.15,\n",
       "     'priceEmployee': 0.9,\n",
       "     'pricePupil': 0.9,\n",
       "     'priceAdditive': None},\n",
       "    {'name': 'Salat',\n",
       "     'identifier': 'SALAT',\n",
       "     'foodAdditiveNumbers': ['1', '96', 'ML', 'Sf', 'Sn'],\n",
       "     'priceStudent': 0.9,\n",
       "     'priceGuest': 1.15,\n",
       "     'priceEmployee': 0.9,\n",
       "     'pricePupil': 0.9,\n",
       "     'priceAdditive': None},\n",
       "    {'name': 'Dessertauswahl Diverse Desserts ab 0,50 EUR bis',\n",
       "     'identifier': 'DESSERTAUSWAHL:DIVERSE:DESSERTS:EUR',\n",
       "     'foodAdditiveNumbers': ['96', 'Ha', 'ML', 'We'],\n",
       "     'priceStudent': 0.85,\n",
       "     'priceGuest': 1.05,\n",
       "     'priceEmployee': 0.85,\n",
       "     'pricePupil': 0.85,\n",
       "     'priceAdditive': None}],\n",
       "   'message': None},\n",
       "  {'title': 'Gut und Günstig',\n",
       "   'meals': [{'name': 'Gebratener Fleischkäse mit Kartoffelpüree und Zwiebelsoße',\n",
       "     'identifier': 'GEBRATENER:FLEISCHKAESE:KARTOFFELPUEREE:ZWIEBELSOSSE',\n",
       "     'foodAdditiveNumbers': ['1', '2', '3', '5', '95', 'Ge', 'ML', 'Se', 'We'],\n",
       "     'priceStudent': 3.2,\n",
       "     'priceGuest': 4.6,\n",
       "     'priceEmployee': 4.2,\n",
       "     'pricePupil': 3.55,\n",
       "     'priceAdditive': None},\n",
       "    {'name': 'Blumenkohl - Käse - Medaillon, Ajvar, Djuvec Reis',\n",
       "     'identifier': 'BLUMENKOHL:KAESE:MEDAILLON:AJVAR:DJUVEC:REIS',\n",
       "     'foodAdditiveNumbers': ['96', 'Ei', 'ML', 'Se', 'We'],\n",
       "     'priceStudent': 3.2,\n",
       "     'priceGuest': 4.6,\n",
       "     'priceEmployee': 4.2,\n",
       "     'pricePupil': 3.55,\n",
       "     'priceAdditive': None},\n",
       "    {'name': 'zu jedem Gericht reichen wir Dessert oder Salat',\n",
       "     'identifier': 'GERICHT:DESSERT:SALAT',\n",
       "     'foodAdditiveNumbers': ['1', 'GEL', 'ML', 'We'],\n",
       "     'priceStudent': 0.0,\n",
       "     'priceGuest': 0.0,\n",
       "     'priceEmployee': 0.0,\n",
       "     'pricePupil': 0.0,\n",
       "     'priceAdditive': None}],\n",
       "   'message': None},\n",
       "  {'title': 'Buffet',\n",
       "   'meals': [{'name': 'Salatbuffet überwiegend vegetarisch je 100g',\n",
       "     'identifier': 'SALATBUFFET',\n",
       "     'foodAdditiveNumbers': ['1', '96', 'ML', 'Sf', 'Sn'],\n",
       "     'priceStudent': 1.0,\n",
       "     'priceGuest': 2.0,\n",
       "     'priceEmployee': 1.38,\n",
       "     'pricePupil': 1.16,\n",
       "     'priceAdditive': None}],\n",
       "   'message': None},\n",
       "  {'title': 'Curry Queen',\n",
       "   'meals': [{'name': 'Reine Kalbsbratwurst mit Currysauce',\n",
       "     'identifier': 'REINE:KALBSBRATWURST:CURRYSAUCE',\n",
       "     'foodAdditiveNumbers': ['93', 'Se', 'Sn'],\n",
       "     'priceStudent': 2.1,\n",
       "     'priceGuest': 2.5,\n",
       "     'priceEmployee': 2.5,\n",
       "     'pricePupil': 2.5,\n",
       "     'priceAdditive': None},\n",
       "    {'name': 'Vegane Tofu-Bratwurst mit Currysauce und Baguette',\n",
       "     'identifier': 'VEGANE:TOFU:BRATWURST:CURRYSAUCE:BAGUETTE',\n",
       "     'foodAdditiveNumbers': ['97', 'Se', 'Sn', 'So', 'We'],\n",
       "     'priceStudent': 2.1,\n",
       "     'priceGuest': 2.5,\n",
       "     'priceEmployee': 2.5,\n",
       "     'pricePupil': 2.5,\n",
       "     'priceAdditive': None},\n",
       "    {'name': 'koerifrites',\n",
       "     'identifier': '',\n",
       "     'foodAdditiveNumbers': ['97'],\n",
       "     'priceStudent': 1.3,\n",
       "     'priceGuest': 1.3,\n",
       "     'priceEmployee': 1.3,\n",
       "     'pricePupil': 1.3,\n",
       "     'priceAdditive': None},\n",
       "    {'name': 'Zu jeder Currywurst reichen wir frisches Baguette',\n",
       "     'identifier': 'ZU:CURRYWURST:BAGUETTE',\n",
       "     'foodAdditiveNumbers': ['97', 'We'],\n",
       "     'priceStudent': 0.0,\n",
       "     'priceGuest': 0.0,\n",
       "     'priceEmployee': 0.0,\n",
       "     'pricePupil': 0.0,\n",
       "     'priceAdditive': None}],\n",
       "   'message': None}],\n",
       " 'status': 'ok',\n",
       " 'date': '2022-11-21'}"
      ]
     },
     "execution_count": 20,
     "metadata": {},
     "output_type": "execute_result"
    }
   ],
   "source": [
    "data"
   ]
  },
  {
   "cell_type": "code",
   "execution_count": 17,
   "metadata": {},
   "outputs": [
    {
     "data": {
      "text/plain": [
       "['Gebratener Fleischkäse mit Kartoffelpüree und Zwiebelsoße',\n",
       " 'Blumenkohl - Käse - Medaillon, Ajvar, Djuvec Reis',\n",
       " 'zu jedem Gericht reichen wir Dessert oder Salat']"
      ]
     },
     "execution_count": 17,
     "metadata": {},
     "output_type": "execute_result"
    }
   ],
   "source": [
    "[a[\"name\"] for a in data[\"mealGroups\"][2][\"meals\"]]"
   ]
  },
  {
   "cell_type": "markdown",
   "metadata": {},
   "source": [
    "#### Aufgabe 3: Gebe die gesamte Auswahl der Essensliste zurück."
   ]
  },
  {
   "cell_type": "code",
   "execution_count": 21,
   "metadata": {},
   "outputs": [
    {
     "name": "stdout",
     "output_type": "stream",
     "text": [
      "Wahlessen 1\n",
      "['Schnitzel Bar Puten und Schweineschnitzel je 100 g in Selbstbedienung', 'Pommes', 'Tagessuppe']\n",
      "Wahlessen 2\n",
      "['Mini Frühlingsrollen mit Sweet Chili Soße und Gemüse Mienudeln', 'Gemüse', 'Salat', 'Dessertauswahl Diverse Desserts ab 0,50 EUR bis']\n",
      "Gut und Günstig\n",
      "['Gebratener Fleischkäse mit Kartoffelpüree und Zwiebelsoße', 'Blumenkohl - Käse - Medaillon, Ajvar, Djuvec Reis', 'zu jedem Gericht reichen wir Dessert oder Salat']\n",
      "Buffet\n",
      "['Salatbuffet überwiegend vegetarisch je 100g']\n"
     ]
    }
   ],
   "source": [
    "for i in range(0,len(data[\"mealGroups\"])-1):\n",
    "    print(data[\"mealGroups\"][i][\"title\"])\n",
    "    print([a[\"name\"] for a in data[\"mealGroups\"][i][\"meals\"]])"
   ]
  },
  {
   "cell_type": "markdown",
   "metadata": {},
   "source": [
    "#### Aufgabe 4: Gebe schön formiert die liste der Essen mit Preis und Art (z.b. Wahlessen) zurück. \n",
    "https://zetcode.com/python/fstring/\n",
    "- Python f-string format width\n",
    "- Python f-string justify string\n",
    "- Python f-string format floats"
   ]
  },
  {
   "cell_type": "code",
   "execution_count": 38,
   "metadata": {},
   "outputs": [
    {
     "name": "stdout",
     "output_type": "stream",
     "text": [
      "Wahlessen 1:\n",
      "  1.05 Schnitzel Bar Puten und Schweineschnitzel je 100 g in Selbstbedienung\n",
      "  1.05 Pommes\n",
      "  0.55 Tagessuppe\n",
      "Wahlessen 2:\n",
      "  3.20 Mini Frühlingsrollen mit Sweet Chili Soße und Gemüse Mienudeln\n",
      "  0.90 Gemüse\n",
      "  0.90 Salat\n",
      "  0.85 Dessertauswahl Diverse Desserts ab 0,50 EUR bis\n",
      "Gut und Günstig:\n",
      "  3.20 Gebratener Fleischkäse mit Kartoffelpüree und Zwiebelsoße\n",
      "  3.20 Blumenkohl - Käse - Medaillon, Ajvar, Djuvec Reis\n",
      "  0.00 zu jedem Gericht reichen wir Dessert oder Salat\n",
      "Buffet:\n",
      "  1.00 Salatbuffet überwiegend vegetarisch je 100g\n"
     ]
    }
   ],
   "source": [
    "for i in range(0,len(data[\"mealGroups\"])-1):\n",
    "    print(f\"{data['mealGroups'][i]['title']}:\")\n",
    "    for a in [f\"{x[1]:>6.2f} {x[0]}\" for x in [(a[\"name\"], float(a[\"priceStudent\"])) for a in data[\"mealGroups\"][i][\"meals\"]]]:\n",
    "        print(a)"
   ]
  },
  {
   "cell_type": "markdown",
   "metadata": {},
   "source": [
    "#### Aufgabe 5: Entwickle aus deinem Code aus Aufgabe 4 eine Funktion, die als String das Ergebnis zurückliefert und statt sie mit Datetime aus, um immer das aktuelle Mensa Angebot zubekommen."
   ]
  },
  {
   "cell_type": "markdown",
   "metadata": {},
   "source": [
    "Doc:\n",
    "https://docs.python.org/3/library/datetime.html#datetime.date.today"
   ]
  },
  {
   "cell_type": "code",
   "execution_count": 27,
   "metadata": {},
   "outputs": [],
   "source": [
    "from datetime import date        # Module for date/time"
   ]
  },
  {
   "cell_type": "markdown",
   "id": "614420d0",
   "metadata": {},
   "source": [
    "# Building GUI with tkinter\n",
    "https://realpython.com/python-gui-tkinter/"
   ]
  },
  {
   "cell_type": "markdown",
   "id": "5a87d423",
   "metadata": {},
   "source": [
    "<div class=\"alert alert-block alert-info\"> \n",
    "    <b>NOTE</b> \"Tkinter is a graphical user interface (GUI) module for Python, you can make desktop apps with Python. You can make windows, buttons, show text and images amongst other things.\" </div>"
   ]
  },
  {
   "cell_type": "markdown",
   "id": "faefc907",
   "metadata": {},
   "source": [
    "## Modules and Packages"
   ]
  },
  {
   "cell_type": "code",
   "execution_count": 28,
   "id": "23e239bf",
   "metadata": {},
   "outputs": [],
   "source": [
    "from tkinter import *            # Module for GUI"
   ]
  },
  {
   "cell_type": "markdown",
   "id": "5f919e4e",
   "metadata": {},
   "source": [
    "## Creating window\n",
    "```py\n",
    "from tkinter import * \n",
    "root = Tk() # Defining a basic Window to show widgets like buttons, text, pictures,... -> always the first step \n",
    "\n",
    "# Widgets to show in window are defined here!\n",
    "\n",
    "root.mainloop() # Eventloop \n",
    "```"
   ]
  },
  {
   "cell_type": "markdown",
   "metadata": {},
   "source": [
    "#### Aufgabe 6: Erstelle ein Fenster mit dem Titel \"Mensa_GUI\" "
   ]
  },
  {
   "cell_type": "markdown",
   "metadata": {},
   "source": [
    "#### Aufgabe 7: Lege eine Fenstergröße von 500x600 Pixeln fest (recherchiere wie das möglich ist)"
   ]
  },
  {
   "cell_type": "code",
   "execution_count": 3,
   "id": "6bb1dfd6",
   "metadata": {},
   "outputs": [],
   "source": [
    "root = Tk() # Defining a basic Window to show widgets like buttons, text, pictures,... -> always the first step \n",
    "\n",
    "# Widgets to show in window are defined here!\n",
    "\n",
    "root.mainloop() # Eventloop "
   ]
  },
  {
   "cell_type": "markdown",
   "id": "62f5bd81",
   "metadata": {},
   "source": [
    " <div class=\"alert alert-block alert-info\"> \n",
    "    <b>NOTE</b> \"Without an event loop, GUI windows would remain static, and unable to change or be interactive like they normally are.\" </div>"
   ]
  },
  {
   "cell_type": "markdown",
   "id": "49aa915d",
   "metadata": {},
   "source": [
    "## Text - Widget\n",
    "```py\n",
    "root = Tk()\n",
    "\n",
    "myLabel = Label(root, text='Tutorium_22')\n",
    "myLabel.pack() #function to show text in window\n",
    "\n",
    "root.mainloop()\n",
    "```"
   ]
  },
  {
   "cell_type": "markdown",
   "metadata": {},
   "source": [
    "#### Aufgabe 8: Gebe die Rückgabe von Ausgabe 4 im Fenster aus"
   ]
  },
  {
   "cell_type": "code",
   "execution_count": 52,
   "id": "ba035597",
   "metadata": {
    "scrolled": true
   },
   "outputs": [
    {
     "name": "stdout",
     "output_type": "stream",
     "text": [
      "URL_Get_Abfrage:https://www.iwi.h-ka.de/iwii/REST/canteen/v2/2/2022-11-21\n",
      "200 ok\n"
     ]
    }
   ],
   "source": [
    "import requests                  # Module for API\n",
    "from tkinter import *            # Module for GUI\n",
    "from datetime import date        # Module for date/time\n",
    "root = Tk()\n",
    "\n",
    "def f():\n",
    "    id = 2\n",
    "    datum = date.today()\n",
    "    URL = f\"https://www.iwi.h-ka.de/iwii/REST/canteen/v2/{id}/{datum}\"\n",
    "    print(f\"URL_Get_Abfrage:{URL}\")\n",
    "    resp = requests.get(URL)\n",
    "    print(resp.status_code, end=\" \")\n",
    "    if resp.status_code == 200:\n",
    "        data = resp.json()  \n",
    "        print(data[\"status\"])  \n",
    "    data[\"date\"]\n",
    "    res = \"\"\" \"\"\"\n",
    "    for i in range(0,len(data[\"mealGroups\"])-1):\n",
    "        res +=f\"\"\"{data['mealGroups'][i]['title']}: \n",
    "        \"\"\"\n",
    "        for a in [f\"\"\"{x[1]:>6.2f} {x[0]}\"\"\" for x in [(a[\"name\"], float(a[\"priceStudent\"])) for a in data[\"mealGroups\"][i][\"meals\"]]]:\n",
    "            res += a+\"\"\"\n",
    "            \"\"\"\n",
    "            \n",
    "    return res \n",
    "\n",
    "myLabel = Label(root, text=f(), justify=LEFT)\n",
    "myLabel.pack() #function to show text in window\n",
    "\n",
    "root.mainloop()"
   ]
  },
  {
   "cell_type": "code",
   "execution_count": null,
   "metadata": {},
   "outputs": [],
   "source": [
    "\n"
   ]
  }
 ],
 "metadata": {
  "kernelspec": {
   "display_name": "Python 3.8.10 64-bit",
   "language": "python",
   "name": "python3"
  },
  "language_info": {
   "codemirror_mode": {
    "name": "ipython",
    "version": 3
   },
   "file_extension": ".py",
   "mimetype": "text/x-python",
   "name": "python",
   "nbconvert_exporter": "python",
   "pygments_lexer": "ipython3",
   "version": "3.8.10"
  },
  "orig_nbformat": 4,
  "vscode": {
   "interpreter": {
    "hash": "916dbcbb3f70747c44a77c7bcd40155683ae19c65e1c03b4aa3499c5328201f1"
   }
  }
 },
 "nbformat": 4,
 "nbformat_minor": 2
}
