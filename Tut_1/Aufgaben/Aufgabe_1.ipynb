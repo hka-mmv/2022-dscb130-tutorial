{
 "cells": [
  {
   "cell_type": "markdown",
   "metadata": {},
   "source": [
    "# 1. Tutorium"
   ]
  },
  {
   "cell_type": "markdown",
   "metadata": {},
   "source": [
    "Output print"
   ]
  },
  {
   "cell_type": "code",
   "execution_count": 8,
   "metadata": {},
   "outputs": [
    {
     "name": "stdout",
     "output_type": "stream",
     "text": [
      "Hallo Welt\n"
     ]
    }
   ],
   "source": [
    "print(\"Hallo Welt\")"
   ]
  },
  {
   "cell_type": "markdown",
   "metadata": {},
   "source": [
    "## String\n",
    "Ein String-Literal ist eine Folge von Zeichen, die von Anführungszeichen umgeben sind. Für eine Zeichenkette können sowohl einfache, doppelte als auch dreifache Anführungszeichen verwendet werden. Und ein Zeichenliteral ist ein einzelnes Zeichen, das von einfachen oder doppelten Anführungszeichen umgeben ist."
   ]
  },
  {
   "cell_type": "code",
   "execution_count": 2,
   "metadata": {},
   "outputs": [
    {
     "name": "stdout",
     "output_type": "stream",
     "text": [
      "Apple\n",
      "Apple\n",
      "Apple\n",
      "Apple\n"
     ]
    },
    {
     "ename": "NameError",
     "evalue": "name 'Apple' is not defined",
     "output_type": "error",
     "traceback": [
      "\u001b[0;31m---------------------------------------------------------------------------\u001b[0m",
      "\u001b[0;31mNameError\u001b[0m                                 Traceback (most recent call last)",
      "\u001b[1;32m/home/ich/Documents/Uni/Semester_3/tutorium/2022-dscb130-tutorial/Tut_1/Aufgaben/Aufgabe_1.ipynb Cell 3\u001b[0m in \u001b[0;36m<cell line: 15>\u001b[0;34m()\u001b[0m\n\u001b[1;32m     <a href='vscode-notebook-cell:/home/ich/Documents/Uni/Semester_3/tutorium/2022-dscb130-tutorial/Tut_1/Aufgaben/Aufgabe_1.ipynb#W2sZmlsZQ%3D%3D?line=11'>12</a>\u001b[0m d \u001b[39m=\u001b[39m \u001b[39m\"\u001b[39m\u001b[39mApple\u001b[39m\u001b[39m\"\u001b[39m\n\u001b[1;32m     <a href='vscode-notebook-cell:/home/ich/Documents/Uni/Semester_3/tutorium/2022-dscb130-tutorial/Tut_1/Aufgaben/Aufgabe_1.ipynb#W2sZmlsZQ%3D%3D?line=12'>13</a>\u001b[0m \u001b[39mprint\u001b[39m(d)\n\u001b[0;32m---> <a href='vscode-notebook-cell:/home/ich/Documents/Uni/Semester_3/tutorium/2022-dscb130-tutorial/Tut_1/Aufgaben/Aufgabe_1.ipynb#W2sZmlsZQ%3D%3D?line=14'>15</a>\u001b[0m e \u001b[39m=\u001b[39m Apple     \u001b[39m# cannot write string with out quotes ('', \" \", \"\"\" \"\"\", ''' ''')\u001b[39;00m\n\u001b[1;32m     <a href='vscode-notebook-cell:/home/ich/Documents/Uni/Semester_3/tutorium/2022-dscb130-tutorial/Tut_1/Aufgaben/Aufgabe_1.ipynb#W2sZmlsZQ%3D%3D?line=15'>16</a>\u001b[0m \u001b[39mprint\u001b[39m(e)\n",
      "\u001b[0;31mNameError\u001b[0m: name 'Apple' is not defined"
     ]
    }
   ],
   "source": [
    "# Example:\n",
    "\n",
    "a = '''Apple'''\n",
    "print(a)\n",
    "\n",
    "b = \"\"\"Apple\"\"\"\n",
    "print(b)\n",
    "\n",
    "c = 'Apple'\n",
    "print(c)\n",
    "\n",
    "d = \"Apple\"\n",
    "print(d)\n",
    "\n",
    "e = Apple     # cannot write string with out quotes ('', \" \", \"\"\" \"\"\", ''' ''')\n",
    "print(e)\n"
   ]
  },
  {
   "cell_type": "code",
   "execution_count": 7,
   "metadata": {},
   "outputs": [
    {
     "name": "stdout",
     "output_type": "stream",
     "text": [
      "This is Python\n",
      "C\n",
      "This \n",
      "is \n",
      "a \n",
      "multiline \n",
      "string.\n",
      "Ünicöde\n",
      "raw \\n string\n",
      "🤣\n"
     ]
    }
   ],
   "source": [
    "strings = \"This is Python\"\n",
    "char = \"C\"\n",
    "multiline_str = \"\"\"This \n",
    "is \n",
    "a \n",
    "multiline \n",
    "string.\"\"\"\n",
    "unicode = u\"\\u00dcnic\\u00f6de\"\n",
    "raw_str = r\"raw \\n string\"\n",
    "\n",
    "print(strings)\n",
    "print(char)\n",
    "print(multiline_str)\n",
    "print(unicode)\n",
    "print(raw_str)\n",
    "print(\"\\U0001F923\")\n"
   ]
  },
  {
   "cell_type": "markdown",
   "metadata": {},
   "source": [
    "Input\n",
    "- EVA"
   ]
  },
  {
   "cell_type": "code",
   "execution_count": null,
   "metadata": {},
   "outputs": [],
   "source": [
    "eingabe = input(\"Put youer input her:\")  # Eingabe\n",
    "ausgabe = eingabe + \"\\U0001F923\"         # Verarbeiung\n",
    "print(ausgabe)                           # Ausgbabe "
   ]
  },
  {
   "cell_type": "markdown",
   "metadata": {},
   "source": [
    "f Sring "
   ]
  },
  {
   "cell_type": "code",
   "execution_count": null,
   "metadata": {},
   "outputs": [],
   "source": [
    "adj = input(\"Adjective: \")\n",
    "verb1 = input(\"Verb: \")\n",
    "verb2 = input(\"Verb: \")\n",
    "famous_person = input(\"Famous person: \")\n",
    "\n",
    "madlib = f\"Computer programming is so {adj}! It makes me so excited all the time because \\\n",
    "I love to {verb1}. Stay hydrated and {verb2} like you are {famous_person}!\"\n",
    "\n",
    "print(madlib)"
   ]
  },
  {
   "cell_type": "code",
   "execution_count": 1,
   "metadata": {},
   "outputs": [
    {
     "name": "stdout",
     "output_type": "stream",
     "text": [
      "About 100 years ago there was a man named Otto. One day he was passing by the mountains he saw a man who seemed to be in late 20s digging a well on roadside.\n"
     ]
    }
   ],
   "source": [
    "# Importing random module\n",
    "import random\n",
    "  \n",
    "# Defining list of phrases which will help to build a story\n",
    "  \n",
    "Sentence_starter = ['About 100 years ago', ' In the 20 BC', 'Once upon a time']\n",
    "character = [' there lived a king named ',' there was a man named ',\n",
    "             ' there lived a farmer named ']\n",
    "\n",
    "name = input(\"Enter Name hier:\") + \". \"\n",
    "\n",
    "time = ['One day', 'One full-moon night']\n",
    "story_plot = [' he was passing by',' he was going for a picnic to']\n",
    "place = [' the mountains', ' the garden']\n",
    "second_character = [' he saw a man', ' he saw a young lady']\n",
    "age = [' who seemed to be in late 20s', ' who seemed very old and feeble']\n",
    "work = [' searching something.', ' digging a well on roadside.']\n",
    "  \n",
    "# Selecting an item from each list and concatenating them.\n",
    "print(random.choice(Sentence_starter)+random.choice(character)+name+\n",
    "      random.choice(time)+random.choice(story_plot) +\n",
    "      random.choice(place)+random.choice(second_character)+\n",
    "      random.choice(age)+random.choice(work))"
   ]
  },
  {
   "cell_type": "code",
   "execution_count": 37,
   "metadata": {},
   "outputs": [
    {
     "data": {
      "text/plain": [
       "'0b1100'"
      ]
     },
     "execution_count": 37,
     "metadata": {},
     "output_type": "execute_result"
    }
   ],
   "source": [
    "bin(12)"
   ]
  },
  {
   "cell_type": "code",
   "execution_count": 35,
   "metadata": {},
   "outputs": [
    {
     "data": {
      "text/plain": [
       "12"
      ]
     },
     "execution_count": 35,
     "metadata": {},
     "output_type": "execute_result"
    }
   ],
   "source": [
    "int(0b1100)"
   ]
  },
  {
   "cell_type": "code",
   "execution_count": 19,
   "metadata": {},
   "outputs": [
    {
     "data": {
      "text/plain": [
       "'0x3'"
      ]
     },
     "execution_count": 19,
     "metadata": {},
     "output_type": "execute_result"
    }
   ],
   "source": [
    "hex(3)"
   ]
  },
  {
   "cell_type": "code",
   "execution_count": 33,
   "metadata": {},
   "outputs": [
    {
     "data": {
      "text/plain": [
       "'0o132'"
      ]
     },
     "execution_count": 33,
     "metadata": {},
     "output_type": "execute_result"
    }
   ],
   "source": [
    "oct(90)"
   ]
  },
  {
   "cell_type": "markdown",
   "metadata": {},
   "source": [
    "### Beispiel: Dezimal Number to binary Number converter\n",
    "2(dez)  ->  10(bin)"
   ]
  },
  {
   "cell_type": "code",
   "execution_count": 32,
   "metadata": {},
   "outputs": [
    {
     "name": "stdout",
     "output_type": "stream",
     "text": [
      "2(dez)  ->  10(bin)\n"
     ]
    }
   ],
   "source": [
    "num = int(input(\"Input an dezimal Number\"))\n",
    "print(f\"{num}(dez)  ->  {bin(num).lstrip('0b')}(bin)\") "
   ]
  }
 ],
 "metadata": {
  "kernelspec": {
   "display_name": "Python 3.8.10 64-bit",
   "language": "python",
   "name": "python3"
  },
  "language_info": {
   "codemirror_mode": {
    "name": "ipython",
    "version": 3
   },
   "file_extension": ".py",
   "mimetype": "text/x-python",
   "name": "python",
   "nbconvert_exporter": "python",
   "pygments_lexer": "ipython3",
   "version": "3.8.10"
  },
  "orig_nbformat": 4,
  "vscode": {
   "interpreter": {
    "hash": "916dbcbb3f70747c44a77c7bcd40155683ae19c65e1c03b4aa3499c5328201f1"
   }
  }
 },
 "nbformat": 4,
 "nbformat_minor": 2
}
