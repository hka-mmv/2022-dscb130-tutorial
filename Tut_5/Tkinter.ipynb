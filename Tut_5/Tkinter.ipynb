{
 "cells": [
  {
   "cell_type": "markdown",
   "id": "614420d0",
   "metadata": {},
   "source": [
    "# Building GUI with tkinter"
   ]
  },
  {
   "cell_type": "markdown",
   "id": "5a87d423",
   "metadata": {},
   "source": [
    "<div class=\"alert alert-block alert-info\"> \n",
    "    <b>NOTE</b> \"Tkinter is a graphical user interface (GUI) module for Python, you can make desktop apps with Python. You can make windows, buttons, show text and images amongst other things.\" </div>"
   ]
  },
  {
   "cell_type": "markdown",
   "id": "faefc907",
   "metadata": {},
   "source": [
    "## Modules and Packages"
   ]
  },
  {
   "cell_type": "code",
   "execution_count": 2,
   "id": "23e239bf",
   "metadata": {},
   "outputs": [],
   "source": [
    "import requests                  # Module for API\n",
    "from datetime import date        # Module for date/time\n",
    "from tkinter import *            # Module for GUI"
   ]
  },
  {
   "cell_type": "markdown",
   "id": "5f919e4e",
   "metadata": {},
   "source": [
    "## Creating window"
   ]
  },
  {
   "cell_type": "code",
   "execution_count": 6,
   "id": "6bb1dfd6",
   "metadata": {},
   "outputs": [],
   "source": [
    "root = Tk() # Defining a basic Window to show widgets like buttons, text, pictures,... -> always the first step \n",
    "\n",
    "# Widgets to show in window are defined here!\n",
    "\n",
    "root.mainloop() # Eventloop "
   ]
  },
  {
   "cell_type": "markdown",
   "id": "62f5bd81",
   "metadata": {},
   "source": [
    " <div class=\"alert alert-block alert-info\"> \n",
    "    <b>NOTE</b> \"Without an event loop, GUI windows would remain static, and unable to change or be interactive like they normally are.\" </div>"
   ]
  },
  {
   "cell_type": "markdown",
   "id": "49aa915d",
   "metadata": {},
   "source": [
    "## Text - Widget"
   ]
  },
  {
   "cell_type": "code",
   "execution_count": 8,
   "id": "ba035597",
   "metadata": {
    "scrolled": true
   },
   "outputs": [],
   "source": [
    "root = Tk()\n",
    "\n",
    "myLabel = Label(root, text='Tutorium_22')\n",
    "myLabel.pack() #function to show text in window\n",
    "\n",
    "root.mainloop()"
   ]
  },
  {
   "cell_type": "markdown",
   "id": "23d3db34",
   "metadata": {},
   "source": [
    "## Button - Widget"
   ]
  },
  {
   "cell_type": "code",
   "execution_count": 8,
   "id": "d30c4a33",
   "metadata": {},
   "outputs": [],
   "source": [
    "root = Tk()\n",
    "\n",
    "myButton = Button(root, text='click Me!')\n",
    "myButton.pack() #function to show button in window\n",
    "\n",
    "root.mainloop()"
   ]
  },
  {
   "cell_type": "markdown",
   "id": "6be13a9e",
   "metadata": {},
   "source": [
    "## Entry - Widget"
   ]
  },
  {
   "cell_type": "code",
   "execution_count": 7,
   "id": "8d260149",
   "metadata": {},
   "outputs": [],
   "source": [
    "root = Tk()\n",
    "\n",
    "entry = Entry(root)\n",
    "entry.pack() #function to show entryfield in window\n",
    "entry.insert(0, \"Gebe einen Text ein\")\n",
    "\n",
    "root.mainloop()"
   ]
  },
  {
   "cell_type": "markdown",
   "id": "c12f1f27",
   "metadata": {},
   "source": [
    "## grid()"
   ]
  },
  {
   "cell_type": "markdown",
   "id": "09614088",
   "metadata": {},
   "source": [
    " <div class=\"alert alert-block alert-info\"> \n",
    "    <b>NOTE</b> \"A easy method to place widgets in your GUI where you want them to be. Therefor. The Grid geometry manager puts the widgets in a 2-dimensional table. The master widget is split into a number of rows and columns.\" </div>"
   ]
  },
  {
   "cell_type": "markdown",
   "id": "60215870",
   "metadata": {},
   "source": [
    "The grid layout has 4 main options that you can use while positioning widgets.\n",
    "\n",
    "* row – The row at which the widget is to be placed\n",
    "* column – The column at which the widget is to be placed\n",
    "* columnspan – The number of columns the widget will occupy\n",
    "* rowspan – The number of rows the widget will occupy\n",
    "\n",
    "There is no limit to the number of columns and rows you can have in the grid. The highest column and row numbers you enter into your grid, will become the determine the number of rows and columns."
   ]
  },
  {
   "cell_type": "markdown",
   "id": "2f1364f5",
   "metadata": {},
   "source": [
    "## Aufgabe_1"
   ]
  },
  {
   "cell_type": "code",
   "execution_count": null,
   "id": "ede7bf5e",
   "metadata": {},
   "outputs": [],
   "source": []
  }
 ],
 "metadata": {
  "kernelspec": {
   "display_name": "Python 3",
   "language": "python",
   "name": "python3"
  },
  "language_info": {
   "codemirror_mode": {
    "name": "ipython",
    "version": 3
   },
   "file_extension": ".py",
   "mimetype": "text/x-python",
   "name": "python",
   "nbconvert_exporter": "python",
   "pygments_lexer": "ipython3",
   "version": "3.8.8"
  }
 },
 "nbformat": 4,
 "nbformat_minor": 5
}
