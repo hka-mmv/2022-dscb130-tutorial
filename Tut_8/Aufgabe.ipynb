{
 "cells": [
  {
   "cell_type": "markdown",
   "id": "162dbc92-cbe8-476e-af65-9c834476765d",
   "metadata": {},
   "source": [
    "# Building GUI with tkinter"
   ]
  },
  {
   "cell_type": "markdown",
   "id": "799210e2-8574-4d9f-8827-28ab9f3e3b14",
   "metadata": {},
   "source": [
    "<div class=\"alert alert-block alert-info\"> \n",
    "    <b>NOTE</b> \"Tkinter is a graphical user interface (GUI) module for Python, you can make desktop apps with Python. You can make windows, buttons, show text and images amongst other things.\" </div>"
   ]
  },
  {
   "cell_type": "markdown",
   "id": "d6733bdc-f4f9-4538-9338-8e10a5509574",
   "metadata": {},
   "source": [
    "## Modules and Packages"
   ]
  },
  {
   "cell_type": "code",
   "execution_count": 16,
   "id": "596355e7-5304-44e3-9747-02676fe59cc2",
   "metadata": {},
   "outputs": [],
   "source": [
    "import requests                  # Module for API\n",
    "from datetime import date        # Module for date/time\n",
    "from tkinter import *            # Module for GUI"
   ]
  },
  {
   "cell_type": "code",
   "execution_count": 17,
   "id": "90f89fbf-7ebb-42e9-94d4-b5df7350450d",
   "metadata": {},
   "outputs": [
    {
     "data": {
      "text/plain": [
       "{'name': 'Mensa Moltkestraße',\n",
       " 'mealGroups': [],\n",
       " 'status': 'no mealplan available',\n",
       " 'date': '2022-12-04'}"
      ]
     },
     "execution_count": 17,
     "metadata": {},
     "output_type": "execute_result"
    }
   ],
   "source": [
    "\n",
    "datum = date.today()\n",
    "URL = f\"https://www.iwi.h-ka.de/iwii/REST/canteen/v2/{2}/{datum}\"\n",
    "data = requests.get(URL).json()\n",
    "data"
   ]
  },
  {
   "cell_type": "markdown",
   "id": "76f67349-6a32-4aa8-af29-45b9b60becc8",
   "metadata": {},
   "source": [
    "## Creating window"
   ]
  },
  {
   "cell_type": "code",
   "execution_count": 4,
   "id": "516be776-82a9-4bbb-b737-31f8818dcf47",
   "metadata": {},
   "outputs": [],
   "source": [
    "root = Tk() # Defining a basic Window to show widgets like buttons, text, pictures,... -> always the first step \n",
    "\n",
    "# Widgets to show in window are defined here!\n",
    "\n",
    "root.mainloop() # Eventloop "
   ]
  },
  {
   "cell_type": "markdown",
   "id": "1891f03f-e7cc-4842-b689-fa59cd4751fc",
   "metadata": {},
   "source": [
    " <div class=\"alert alert-block alert-info\"> \n",
    "    <b>NOTE</b> \"Without an event loop, GUI windows would remain static, and unable to change or be interactive like they normally are.\" </div>"
   ]
  },
  {
   "cell_type": "markdown",
   "id": "29830d26-b929-4cca-aaff-53f635a0da61",
   "metadata": {},
   "source": [
    "## Text - Widget"
   ]
  },
  {
   "cell_type": "code",
   "execution_count": 3,
   "id": "cc8bc5f3-2937-4f48-8feb-4fc7d830c2ae",
   "metadata": {
    "scrolled": true
   },
   "outputs": [],
   "source": [
    "root = Tk()\n",
    "\n",
    "myLabel = Label(root, text='Tutorium_22')\n",
    "myLabel.grid() #function to show text in window\n",
    "\n",
    "root.mainloop()"
   ]
  },
  {
   "cell_type": "markdown",
   "id": "560d4917-4fd4-4abe-9bab-a10081cf45cd",
   "metadata": {},
   "source": [
    "## Button - Widget"
   ]
  },
  {
   "cell_type": "code",
   "execution_count": 7,
   "id": "39f66491-ff2d-43b0-b9c8-57179f4f1726",
   "metadata": {},
   "outputs": [],
   "source": [
    "root = Tk()\n",
    "\n",
    "myButton = Button(root, text=\"i am a button\")\n",
    "myButton.grid() #function to show button in window\n",
    "\n",
    "root.mainloop()"
   ]
  },
  {
   "cell_type": "markdown",
   "id": "eb713e19-ddec-4c91-a6db-941b50a696bc",
   "metadata": {},
   "source": [
    "## Entry - Widget"
   ]
  },
  {
   "cell_type": "code",
   "execution_count": 8,
   "id": "6c7e2fe6-e0d1-4514-8212-0672c9c5c242",
   "metadata": {},
   "outputs": [],
   "source": [
    "root = Tk()\n",
    "\n",
    "entry = Entry(root)\n",
    "entry.grid() #function to show entryfield in window\n",
    "entry.insert(0, \"your text\")\n",
    "\n",
    "root.mainloop()"
   ]
  },
  {
   "cell_type": "markdown",
   "id": "b9bc373c-7345-4f64-8090-4d2e5fbb0072",
   "metadata": {},
   "source": [
    "## grid()"
   ]
  },
  {
   "cell_type": "markdown",
   "id": "3a3fd8ef-5ac8-4e8f-9b10-4a373b2b9faa",
   "metadata": {},
   "source": [
    " <div class=\"alert alert-block alert-info\"> \n",
    "    <b>NOTE</b> \"A easy method to place widgets in your GUI where you want them to be. Therefor. The Grid geometry manager puts the widgets in a 2-dimensional table. The master widget is split into a number of rows and columns.\" </div>"
   ]
  },
  {
   "cell_type": "markdown",
   "id": "05890c4a-29f6-49ca-8775-c790a66216f8",
   "metadata": {},
   "source": [
    "The grid layout has 4 main options that you can use while positioning widgets.\n",
    "\n",
    "* row – The row at which the widget is to be placed\n",
    "* column – The column at which the widget is to be placed\n",
    "* columnspan – The number of columns the widget will occupy\n",
    "* rowspan – The number of rows the widget will occupy\n",
    "\n",
    "There is no limit to the number of columns and rows you can have in the grid. The highest column and row numbers you enter into your grid, will become the determine the number of rows and columns."
   ]
  },
  {
   "cell_type": "markdown",
   "id": "0f150222-b0a2-4353-a8d0-d19c03b6f123",
   "metadata": {},
   "source": [
    "## Aufgabe_1"
   ]
  },
  {
   "cell_type": "markdown",
   "id": "ea276333-fd58-43c0-8fc9-dd3f5614aed7",
   "metadata": {},
   "source": [
    "+ Erstelle ein Fenster mit dem Titel \"Mensa_GUI\"\n",
    "+ Lege eine Fenstergröße von 500x600 Pixeln fest (recherchiere wie das möglich ist)\n",
    "+ Gebe eine Zeile beliebigen Textes aus "
   ]
  },
  {
   "cell_type": "code",
   "execution_count": null,
   "id": "0d7eb7a7-fb0a-45fb-94b6-d86a4c1d1529",
   "metadata": {},
   "outputs": [],
   "source": [
    "#programmiere hier"
   ]
  },
  {
   "cell_type": "markdown",
   "id": "684a886b-f32e-4ebd-9429-f481b3b7a89a",
   "metadata": {},
   "source": [
    "## Aufgabe_2"
   ]
  },
  {
   "cell_type": "markdown",
   "id": "bf256423-d4fb-4d43-a694-a5143e2bcecb",
   "metadata": {},
   "source": [
    "+ Ersetze den selbst gewählten Text aus Aufgabe 1 durch den Titel der ersten Meal-Group"
   ]
  },
  {
   "cell_type": "code",
   "execution_count": null,
   "id": "29ac8eb4-7a92-48a5-9083-5fd38b3050fb",
   "metadata": {},
   "outputs": [],
   "source": [
    "#programmiere hier"
   ]
  },
  {
   "cell_type": "markdown",
   "id": "6d960116-f6a3-4d34-b961-06e6561b5de8",
   "metadata": {},
   "source": [
    "## Aufgabe_3"
   ]
  },
  {
   "cell_type": "markdown",
   "id": "8ead5b8f-7dcb-4fc4-9e21-3284c12ac31a",
   "metadata": {},
   "source": [
    "- Erstelle ein neues Widget welches einen Button enthält welcher beim Anklicken die Ausgabe des requests ausgibt \n",
    "    - Definiere hierzu zuerst die Abfrage als Funktion, welche dann dem Knopf als \"command\" übergeben werden kann\n",
    "    - Recherchiere wie Buttons eine Funktion übergeben werden kann "
   ]
  },
  {
   "cell_type": "code",
   "execution_count": null,
   "id": "eb5d14f0-e3e1-47fa-b23b-3db9e2cfd10e",
   "metadata": {},
   "outputs": [],
   "source": [
    "#definiere hier die abfragefunktion"
   ]
  },
  {
   "cell_type": "code",
   "execution_count": null,
   "id": "70164500-6040-4c53-a58b-a980d3c1ebae",
   "metadata": {},
   "outputs": [],
   "source": [
    "#programmiere hier"
   ]
  }
 ],
 "metadata": {
  "kernelspec": {
   "display_name": "Python 3",
   "language": "python",
   "name": "python3"
  },
  "language_info": {
   "codemirror_mode": {
    "name": "ipython",
    "version": 3
   },
   "file_extension": ".py",
   "mimetype": "text/x-python",
   "name": "python",
   "nbconvert_exporter": "python",
   "pygments_lexer": "ipython3",
   "version": "3.8.8"
  }
 },
 "nbformat": 4,
 "nbformat_minor": 5
}
